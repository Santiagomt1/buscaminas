{
  "nbformat": 4,
  "nbformat_minor": 0,
  "metadata": {
    "colab": {
      "provenance": [],
      "authorship_tag": "ABX9TyO9DaeO6DwBF0VFii+hCZAO",
      "include_colab_link": true
    },
    "kernelspec": {
      "name": "python3",
      "display_name": "Python 3"
    },
    "language_info": {
      "name": "python"
    }
  },
  "cells": [
    {
      "cell_type": "markdown",
      "metadata": {
        "id": "view-in-github",
        "colab_type": "text"
      },
      "source": [
        "<a href=\"https://colab.research.google.com/github/Santiagomt1/buscaminas/blob/main/buscaminas.ipynb\" target=\"_parent\"><img src=\"https://colab.research.google.com/assets/colab-badge.svg\" alt=\"Open In Colab\"/></a>"
      ]
    },
    {
      "cell_type": "code",
      "execution_count": 2,
      "metadata": {
        "colab": {
          "base_uri": "https://localhost:8080/"
        },
        "id": "Kge_GfRpsaaJ",
        "outputId": "06b91ac3-59d6-4748-85ee-0a881e92bc9c"
      },
      "outputs": [
        {
          "output_type": "stream",
          "name": "stdout",
          "text": [
            "1\n",
            "1\n",
            "1\n",
            "1\n"
          ]
        }
      ],
      "source": [
        "figurita = []\n",
        "\n",
        "for i in range(2):\n",
        "  temp = []\n",
        "  for j in range(2):\n",
        "    temp.append(1)\n",
        "  figurita.append(temp)\n",
        "\n",
        "for i in range(len(figurita)):\n",
        "  for j in range(len(figurita[i])):\n",
        "    print(figurita[i][j])\n"
      ]
    },
    {
      "cell_type": "markdown",
      "source": [
        "print(figurita[i][j], end=\" \") - lo imprime al lado"
      ],
      "metadata": {
        "id": "y8UnDD3ExxLh"
      }
    },
    {
      "cell_type": "code",
      "source": [
        "figurita = []\n",
        "rows = 3\n",
        "columns = 3\n",
        "counter = 1\n",
        "for i in range(rows):\n",
        "  temp = []\n",
        "  for j in range(columns):\n",
        "    temp.append(counter)\n",
        "    counter += 1\n",
        "  figurita.append(temp)\n",
        "\n",
        "print(figurita)\n",
        "\n",
        "for i in range(len(figurita)):\n",
        "  for j in range(len(figurita[i])):\n",
        "    print(figurita[i][j], end=\" \")\n",
        "  print()\n"
      ],
      "metadata": {
        "colab": {
          "base_uri": "https://localhost:8080/"
        },
        "id": "aNP0tZUEw678",
        "outputId": "2fff398d-6bf4-417f-a2c5-0c35674eb55e"
      },
      "execution_count": 3,
      "outputs": [
        {
          "output_type": "stream",
          "name": "stdout",
          "text": [
            "[[1, 2, 3], [4, 5, 6], [7, 8, 9]]\n",
            "1 2 3 \n",
            "4 5 6 \n",
            "7 8 9 \n"
          ]
        }
      ]
    },
    {
      "cell_type": "code",
      "source": [
        "figurita = []\n",
        "rows = 3\n",
        "columns = 3\n",
        "counter = 1\n",
        "for i in range(rows):\n",
        "  temp = []\n",
        "  for j in range(columns):\n",
        "    temp.append(\" - \")\n",
        "    counter += 1\n",
        "  figurita.append(temp)\n",
        "\n",
        "# print(figurita)\n",
        "\n",
        "for i in range(len(figurita)):\n",
        "  for j in range(len(figurita[i])):\n",
        "    print(figurita[i][j], end=\"\")\n",
        "  print()\n"
      ],
      "metadata": {
        "colab": {
          "base_uri": "https://localhost:8080/"
        },
        "id": "PmQ5f3bey15s",
        "outputId": "f62629d0-ff21-4321-8d87-30d970c2dd40"
      },
      "execution_count": 4,
      "outputs": [
        {
          "output_type": "stream",
          "name": "stdout",
          "text": [
            " -  -  - \n",
            " -  -  - \n",
            " -  -  - \n"
          ]
        }
      ]
    },
    {
      "cell_type": "markdown",
      "source": [
        "namespace : nombre y sus valores es como un diccionario donde las llaves son los nombres definidos\n",
        "\n",
        "namespaces globales = importa\n",
        "\n",
        "namespaces locales = funciones\n",
        "\n",
        "namespaces enclosing = dentro de otras funciones, existen hasta que la funcion deje de ejecutarse.\n",
        "\n",
        "scope = alcance, hasta que punto puedo acceder.\n",
        "\n",
        "scope local = el que maneja la info mas delicada, ni modificado por codigo que esta fuera de el\n",
        "\n",
        "enclosing = funciones internas pueden usar los valores de las funciones externas\n",
        "\n",
        "legb busqueda varios namespaces\n",
        "\n",
        "Modulos:\n",
        "\n",
        "- archivos con codigo reutilizable\n",
        "- conjuntos de declaraciones para ser utilizadas como herramientas\n",
        "- tambien son librerias o paquetes\n",
        "- cpaquete es coleecion de modulos\n",
        "- importa lo que necesites\n",
        "\n",
        "ejemplo\n",
        "\n",
        "namespace local\n",
        "\n",
        "from datetime import *\n"
      ],
      "metadata": {
        "id": "5-mo6jbt4zG3"
      }
    },
    {
      "cell_type": "code",
      "source": [
        "#hora y fecha\n",
        "from datetime import datetime\n",
        "current_time = datetime.now()\n",
        "print(current_time)"
      ],
      "metadata": {
        "colab": {
          "base_uri": "https://localhost:8080/"
        },
        "id": "tyAIUY3a9QdS",
        "outputId": "1c03e926-7d2c-46d3-d3ae-3f39c31bd186"
      },
      "execution_count": 5,
      "outputs": [
        {
          "output_type": "stream",
          "name": "stdout",
          "text": [
            "2024-04-08 18:29:49.807390\n"
          ]
        }
      ]
    },
    {
      "cell_type": "code",
      "source": [
        "import random\n",
        "random_numbers = []\n",
        "for i in range(10):\n",
        "  random_numbers.append(random.randint(-100,100))\n",
        "print(random_numbers)"
      ],
      "metadata": {
        "colab": {
          "base_uri": "https://localhost:8080/"
        },
        "id": "45ljzn7E9nUB",
        "outputId": "c1f51784-245f-48fb-d59b-7b2a7bc9fcee"
      },
      "execution_count": 6,
      "outputs": [
        {
          "output_type": "stream",
          "name": "stdout",
          "text": [
            "[-95, -22, -15, 90, -84, 98, 12, 84, 85, 37]\n"
          ]
        }
      ]
    },
    {
      "cell_type": "code",
      "source": [
        "locals()"
      ],
      "metadata": {
        "colab": {
          "base_uri": "https://localhost:8080/"
        },
        "id": "ZEEotvT992Jj",
        "outputId": "2d488536-8c95-40b2-e1d8-eeb6c08426e0"
      },
      "execution_count": 1,
      "outputs": [
        {
          "output_type": "execute_result",
          "data": {
            "text/plain": [
              "{'__name__': '__main__',\n",
              " '__doc__': 'Automatically created module for IPython interactive environment',\n",
              " '__package__': None,\n",
              " '__loader__': None,\n",
              " '__spec__': None,\n",
              " '__builtin__': <module 'builtins' (built-in)>,\n",
              " '__builtins__': <module 'builtins' (built-in)>,\n",
              " '_ih': ['', 'locals()'],\n",
              " '_oh': {},\n",
              " '_dh': ['/content'],\n",
              " 'In': ['', 'locals()'],\n",
              " 'Out': {},\n",
              " 'get_ipython': <bound method InteractiveShell.get_ipython of <google.colab._shell.Shell object at 0x7b1fd770b7c0>>,\n",
              " 'exit': <IPython.core.autocall.ZMQExitAutocall at 0x7b1fd770ac80>,\n",
              " 'quit': <IPython.core.autocall.ZMQExitAutocall at 0x7b1fd770ac80>,\n",
              " '_': '',\n",
              " '__': '',\n",
              " '___': '',\n",
              " '_i': '',\n",
              " '_ii': '',\n",
              " '_iii': '',\n",
              " '_i1': 'locals()'}"
            ]
          },
          "metadata": {},
          "execution_count": 1
        }
      ]
    },
    {
      "cell_type": "code",
      "source": [
        "from random import choice, sample, randint\n",
        "\n",
        "random_n = [randint(-10, 10) for i in range(10)]\n",
        "print(random_n)\n",
        "print(choice(random_n))\n",
        "print(sample(random_n, 2))"
      ],
      "metadata": {
        "colab": {
          "base_uri": "https://localhost:8080/"
        },
        "id": "dyaHHhfV-XUS",
        "outputId": "ad603c34-9223-498f-fd8a-f749424c8d37"
      },
      "execution_count": 19,
      "outputs": [
        {
          "output_type": "stream",
          "name": "stdout",
          "text": [
            "[6, 8, -3, 4, 9, 7, -8, -3, -5, -5]\n",
            "4\n",
            "[6, -5]\n"
          ]
        }
      ]
    },
    {
      "cell_type": "code",
      "source": [
        "pygames"
      ],
      "metadata": {
        "id": "MHoAJ3GO_8Ta"
      },
      "execution_count": null,
      "outputs": []
    }
  ]
}