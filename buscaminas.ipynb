{
  "nbformat": 4,
  "nbformat_minor": 0,
  "metadata": {
    "colab": {
      "provenance": [],
      "authorship_tag": "ABX9TyNCnJBde4U13n0oMsAM02Za",
      "include_colab_link": true
    },
    "kernelspec": {
      "name": "python3",
      "display_name": "Python 3"
    },
    "language_info": {
      "name": "python"
    }
  },
  "cells": [
    {
      "cell_type": "markdown",
      "metadata": {
        "id": "view-in-github",
        "colab_type": "text"
      },
      "source": [
        "<a href=\"https://colab.research.google.com/github/Santiagomt1/buscaminas/blob/main/buscaminas.ipynb\" target=\"_parent\"><img src=\"https://colab.research.google.com/assets/colab-badge.svg\" alt=\"Open In Colab\"/></a>"
      ]
    },
    {
      "cell_type": "code",
      "execution_count": 6,
      "metadata": {
        "colab": {
          "base_uri": "https://localhost:8080/"
        },
        "id": "Kge_GfRpsaaJ",
        "outputId": "e3f50193-69ec-438a-aa3e-936f59197d98"
      },
      "outputs": [
        {
          "output_type": "stream",
          "name": "stdout",
          "text": [
            "1\n",
            "1\n",
            "1\n",
            "1\n"
          ]
        }
      ],
      "source": [
        "figurita = []\n",
        "\n",
        "for i in range(2):\n",
        "  temp = []\n",
        "  for j in range(2):\n",
        "    temp.append(1)\n",
        "  figurita.append(temp)\n",
        "\n",
        "for i in range(len(figurita)):\n",
        "  for j in range(len(figurita[i])):\n",
        "    print(figurita[i][j])\n"
      ]
    },
    {
      "cell_type": "markdown",
      "source": [
        "print(figurita[i][j], end=\" \") - lo imprime al lado"
      ],
      "metadata": {
        "id": "y8UnDD3ExxLh"
      }
    },
    {
      "cell_type": "code",
      "source": [
        "figurita = []\n",
        "rows = 3\n",
        "columns = 3\n",
        "counter = 1\n",
        "for i in range(rows):\n",
        "  temp = []\n",
        "  for j in range(columns):\n",
        "    temp.append(counter)\n",
        "    counter += 1\n",
        "  figurita.append(temp)\n",
        "\n",
        "print(figurita)\n",
        "\n",
        "for i in range(len(figurita)):\n",
        "  for j in range(len(figurita[i])):\n",
        "    print(figurita[i][j], end=\" \")\n",
        "  print()\n"
      ],
      "metadata": {
        "colab": {
          "base_uri": "https://localhost:8080/"
        },
        "id": "aNP0tZUEw678",
        "outputId": "722350bb-8b8f-4008-caac-23dcac78ed36"
      },
      "execution_count": 12,
      "outputs": [
        {
          "output_type": "stream",
          "name": "stdout",
          "text": [
            "[[1, 2, 3], [4, 5, 6], [7, 8, 9]]\n",
            "1 2 3 \n",
            "4 5 6 \n",
            "7 8 9 \n"
          ]
        }
      ]
    },
    {
      "cell_type": "code",
      "source": [
        "figurita = []\n",
        "rows = 3\n",
        "columns = 3\n",
        "counter = 1\n",
        "for i in range(rows):\n",
        "  temp = []\n",
        "  for j in range(columns):\n",
        "    temp.append(\" - \")\n",
        "    counter += 1\n",
        "  figurita.append(temp)\n",
        "\n",
        "# print(figurita)\n",
        "\n",
        "for i in range(len(figurita)):\n",
        "  for j in range(len(figurita[i])):\n",
        "    print(figurita[i][j], end=\"\")\n",
        "  print()\n"
      ],
      "metadata": {
        "colab": {
          "base_uri": "https://localhost:8080/"
        },
        "id": "PmQ5f3bey15s",
        "outputId": "2a6b3c57-e70d-4f9b-a9c1-799d4c1f4530"
      },
      "execution_count": 15,
      "outputs": [
        {
          "output_type": "stream",
          "name": "stdout",
          "text": [
            " -  -  - \n",
            " -  -  - \n",
            " -  -  - \n"
          ]
        }
      ]
    },
    {
      "cell_type": "markdown",
      "source": [
        "namespace : nombre y sus valores es como un diccionario donde las llaves son los nombres definidos\n",
        "\n",
        "namespaces globales = importa\n",
        "\n",
        "namespaces locales = funciones\n",
        "\n",
        "namespaces enclosing = dentro de otras funciones, existen hasta que la funcion deje de ejecutarse.\n",
        "\n",
        "scope = alcance, hasta que punto puedo acceder.\n",
        "\n",
        "scope local = el que maneja la info mas delicada, ni modificado por codigo que esta fuera de el\n",
        "\n",
        "enclosing = funciones internas pueden usar los valores de las funciones externas\n",
        "\n",
        "legb busqueda varios namespaces\n",
        "\n",
        "Modulos:\n",
        "\n",
        "- archivos con codigo reutilizable\n",
        "- conjuntos de declaraciones para ser utilizadas como herramientas\n",
        "- tambien son librerias o paquetes\n",
        "- cpaquete es coleecion de modulos\n",
        "- importa lo que necesites\n",
        "\n",
        "ejemplo\n",
        "\n",
        "namespace local\n",
        "\n",
        "from datetime import *\n"
      ],
      "metadata": {
        "id": "5-mo6jbt4zG3"
      }
    },
    {
      "cell_type": "code",
      "source": [
        "#hora y fecha\n",
        "from datetime import datetime\n",
        "current_time = datetime.now()\n",
        "print(current_time)"
      ],
      "metadata": {
        "colab": {
          "base_uri": "https://localhost:8080/"
        },
        "id": "tyAIUY3a9QdS",
        "outputId": "9a6edbca-3979-4103-a7d6-f0f05778fc91"
      },
      "execution_count": 34,
      "outputs": [
        {
          "output_type": "stream",
          "name": "stdout",
          "text": [
            "2024-04-08 18:26:45.515664\n"
          ]
        }
      ]
    },
    {
      "cell_type": "code",
      "source": [
        "import random\n",
        "random_numbers = []\n",
        "for i in range(10):\n",
        "  random_numbers.append(random.randint(-100,100))\n",
        "print(random_numbers)"
      ],
      "metadata": {
        "colab": {
          "base_uri": "https://localhost:8080/"
        },
        "id": "45ljzn7E9nUB",
        "outputId": "767bd84d-cf14-4ad8-a5a0-754754ff7f36"
      },
      "execution_count": 35,
      "outputs": [
        {
          "output_type": "stream",
          "name": "stdout",
          "text": [
            "[-27, -58, 76, -94, -3, 4, 16, 39, -40, 23]\n"
          ]
        }
      ]
    },
    {
      "cell_type": "code",
      "source": [
        "locals()"
      ],
      "metadata": {
        "colab": {
          "base_uri": "https://localhost:8080/"
        },
        "id": "ZEEotvT992Jj",
        "outputId": "b37b7bb7-3e39-4945-87cb-db5508f078b4"
      },
      "execution_count": 36,
      "outputs": [
        {
          "output_type": "execute_result",
          "data": {
            "text/plain": [
              "{'__name__': '__main__',\n",
              " '__doc__': 'Automatically created module for IPython interactive environment',\n",
              " '__package__': None,\n",
              " '__loader__': None,\n",
              " '__spec__': None,\n",
              " '__builtin__': <module 'builtins' (built-in)>,\n",
              " '__builtins__': <module 'builtins' (built-in)>,\n",
              " '_ih': ['',\n",
              "  'figurita = []\\n  \\nfor i in range(2):\\n  temp = []\\n  for j in range(2):\\n    temp.append(1)\\n  figurita.append(temp)\\n\\nprint(figuritas)',\n",
              "  'figurita = []\\n  \\nfor i in range(2):\\n  temp = []\\n  for j in range(2):\\n    temp.append(1)\\n  figurita.append(temp)\\n\\nprint(figurita)',\n",
              "  'figurita = []\\n  \\nfor i in range(2):\\n  temp = []\\n  for j in range(2):\\n    temp.append(1)\\n  figurita.append(temp)\\n\\nfor i in range(len(figurita)):\\n  for j in range(len(figurita[i])):\\n    print(figurita[i][j])',\n",
              "  'figurita = []\\nrows = 4\\ncolumns = 4\\ncounter = 1\\nfor i in range(rows):\\n  temp = []\\n  for j in range(columns):\\n    temp.append(counter)\\n    counter += 1\\n  figurita.append(temp)\\n\\n  print(figurita)\\n\\nfor i in range(len(figurita)):\\n  for j in range(len(figurita[i])):\\n    print(figurita[i][j])',\n",
              "  'figurita = []\\nrows = 4\\ncolumns = 4\\ncounter = 1\\nfor i in range(rows):\\n  temp = []\\n  for j in range(columns):\\n    temp.append(counter)\\n    counter += 1\\n  figurita.append(temp)\\n\\nprint(figurita)\\n\\nfor i in range(len(figurita)):\\n  for j in range(len(figurita[i])):\\n    print(figurita[i][j])',\n",
              "  'figurita = []\\n  \\nfor i in range(2):\\n  temp = []\\n  for j in range(2):\\n    temp.append(1)\\n  figurita.append(temp)\\n\\nfor i in range(len(figurita)):\\n  for j in range(len(figurita[i])):\\n    print(figurita[i][j])',\n",
              "  'figurita = []\\nrows = 2\\ncolumns = 2\\ncounter = 1\\nfor i in range(rows):\\n  temp = []\\n  for j in range(columns):\\n    temp.append(counter)\\n    counter += 1\\n  figurita.append(temp)\\n\\nprint(figurita)\\n\\nfor i in range(len(figurita)):\\n  for j in range(len(figurita[i])):\\n    print(figurita[i][j])',\n",
              "  'figurita = []\\nrows = 3\\ncolumns = 3\\ncounter = 1\\nfor i in range(rows):\\n  temp = []\\n  for j in range(columns):\\n    temp.append(counter)\\n    counter += 1\\n  figurita.append(temp)\\n\\nprint(figurita)\\n\\nfor i in range(len(figurita)):\\n  for j in range(len(figurita[i])):\\n    print(figurita[i][j])',\n",
              "  'figurita = []\\nrows = 3\\ncolumns = 3\\ncounter = 1\\nfor i in range(rows):\\n  temp = []\\n  for j in range(columns):\\n    temp.append(counter)\\n    counter += 1\\n  figurita.append(temp)\\n\\nprint(figurita)\\n\\nfor i in range(len(figurita)):\\n  for j in range(len(figurita[i])):\\n    print(figurita[i][j])\\n    print()',\n",
              "  'figurita = []\\nrows = 3\\ncolumns = 3\\ncounter = 1\\nfor i in range(rows):\\n  temp = []\\n  for j in range(columns):\\n    temp.append(counter)\\n    counter += 1\\n  figurita.append(temp)\\n\\nprint(figurita)\\n\\nfor i in range(len(figurita)):\\n  for j in range(len(figurita[i])):\\n    print(figurita[i][j], end=\" \")\\n    print()',\n",
              "  '# prompt: colocame la lista anterior a una matriz con el for\\n\\nmatriz = []\\ncounter = 1\\nfor i in range(3):\\n  temp = []\\n  for j in range(3):\\n    temp.append(counter)\\n    counter += 1\\n  matriz.append(temp)\\n\\nfor i in range(len(matriz)):\\n  for j in range(len(matriz[i])):\\n    print(matriz[i][j])',\n",
              "  'figurita = []\\nrows = 3\\ncolumns = 3\\ncounter = 1\\nfor i in range(rows):\\n  temp = []\\n  for j in range(columns):\\n    temp.append(counter)\\n    counter += 1\\n  figurita.append(temp)\\n\\nprint(figurita)\\n\\nfor i in range(len(figurita)):\\n  for j in range(len(figurita[i])):\\n    print(figurita[i][j], end=\" \")\\n  print()',\n",
              "  'figurita = []\\nrows = 3\\ncolumns = 3\\ncounter = 1\\nfor i in range(rows):\\n  temp = []\\n  for j in range(columns):\\n    temp.append(\"-\")\\n    counter += 1\\n  figurita.append(temp)\\n\\nprint(figurita)\\n\\nfor i in range(len(figurita)):\\n  for j in range(len(figurita[i])):\\n    print(figurita[i][j], end=\"\")\\n  print()',\n",
              "  'figurita = []\\nrows = 3\\ncolumns = 3\\ncounter = 1\\nfor i in range(rows):\\n  temp = []\\n  for j in range(columns):\\n    temp.append(\" - \")\\n    counter += 1\\n  figurita.append(temp)\\n\\nprint(figurita)\\n\\nfor i in range(len(figurita)):\\n  for j in range(len(figurita[i])):\\n    print(figurita[i][j], end=\"\")\\n  print()',\n",
              "  'figurita = []\\nrows = 3\\ncolumns = 3\\ncounter = 1\\nfor i in range(rows):\\n  temp = []\\n  for j in range(columns):\\n    temp.append(\" - \")\\n    counter += 1\\n  figurita.append(temp)\\n\\n# print(figurita)\\n\\nfor i in range(len(figurita)):\\n  for j in range(len(figurita[i])):\\n    print(figurita[i][j], end=\"\")\\n  print()',\n",
              "  '# prompt: usa el codigo anterior y agregale valores a las casillas\\n\\nfigurita = []\\nrows = 3\\ncolumns = 3\\ncounter = 1\\nfor i in range(rows):\\n  temp = []\\n  for j in range(columns):\\n    temp.append(counter)\\n    counter += 1\\n  figurita.append(temp)\\n\\nfigurita[1][1] = \"X\"\\n\\nprint(figurita)\\n\\nfor i in range(len(figurita)):\\n  for j in range(len(figurita[i])):\\n    print(figurita[i][j], end=\" \")\\n  print()',\n",
              "  '# prompt: usa el codigo anterior y agregale valores a las casillas\\n\\nfigurita = []\\nrows = 3\\ncolumns = 3\\ncounter = 1\\nfor i in range(rows):\\n  temp = []\\n  for j in range(columns):\\n    temp.append(counter)\\n    counter += 1\\n  figurita.append(temp)\\n\\nfigurita[1][1] = \"X\"\\n\\n\\nfor i in range(len(figurita)):\\n  for j in range(len(figurita[i])):\\n    print(figurita[i][j], end=\" \")\\n  print()',\n",
              "  '# prompt: usa el codigo anterior y agregale valores a las casillas\\n\\nfigurita = []\\nrows = 3\\ncolumns = 3\\ncounter = 1\\nfor i in range(rows):\\n  temp = []\\n  for j in range(columns):\\n    temp.append(counter)\\n    counter += 1\\n  figurita.append(temp)\\n\\nfigurita[1][2] = \"X\"\\n\\n\\nfor i in range(len(figurita)):\\n  for j in range(len(figurita[i])):\\n    print(figurita[i][j], end=\" \")\\n  print()',\n",
              "  '# prompt: usa el codigo anterior y agregale valores a las casillas\\n\\nfigurita = []\\nrows = 3\\ncolumns = 3\\ncounter = 1\\nfor i in range(rows):\\n  temp = []\\n  for j in range(columns):\\n    temp.append(counter)\\n    counter += 1\\n  figurita.append(temp)\\n\\nfigurita[1][1] = \"X\"\\n\\n\\nfor i in range(len(figurita)):\\n  for j in range(len(figurita[i])):\\n    print(figurita[i][j], end=\" \")\\n  print()',\n",
              "  '# prompt: usa el codigo anterior y agregale valores a las casillas\\n\\nfigurita = []\\nrows = 3\\ncolumns = 3\\ncounter = 1\\nfor i in range(rows):\\n  temp = []\\n  for j in range(columns):\\n    temp.append(counter)\\n    counter += 1\\n  figurita.append(temp)\\n\\n# figurita[1][1] = \"X\"\\n\\n\\nfor i in range(len(figurita)):\\n  for j in range(len(figurita[i])):\\n    print(figurita[i][j], end=\" \")\\n  print()',\n",
              "  '# prompt: usa el codigo anterior y agregale valores a las casillas\\n\\nfigurita = []\\nrows = 3\\ncolumns = 3\\ncounter = 1\\nfor i in range(rows):\\n  temp = []\\n  for j in range(columns):\\n    temp.append(counter)\\n    counter += 1\\n  figurita.append(temp)\\n\\nfigurita[1][1] = \"X\"\\n\\n\\nfor i in range(len(figurita)):\\n  for j in range(len(figurita[i])):\\n    print(figurita[i][j], end=\" \")\\n  print()',\n",
              "  '# prompt: usa el codigo anterior y agregale valores a las casillas\\n\\nfigurita = []\\nrows = 3\\ncolumns = 4\\ncounter = 1\\n\\n#filas\\nfor i in range(rows):\\n  temp = []\\n#columnas\\n  for j in range(columns):\\n    temp.append(counter)\\n    counter += 1\\n  figurita.append(temp)\\n\\nfigurita[1][1] = \"X\"\\n\\n\\nfor i in range(len(figurita)):\\n  for j in range(len(figurita[i])):\\n    print(figurita[i][j], end=\" \")\\n  print()',\n",
              "  '# prompt: usa el codigo anterior y agregale valores a las casillas\\n\\nfigurita = []\\nrows = 3\\ncolumns = 3\\ncounter = 1\\n\\n#filas\\nfor i in range(rows):\\n  temp = []\\n#columnas\\n  for j in range(columns):\\n    temp.append(counter)\\n    counter += 1\\n  figurita.append(temp)\\n\\nfigurita[1][1] = \"X\"\\n\\n\\nfor i in range(len(figurita)):\\n  for j in range(len(figurita[i])):\\n    print(figurita[i][j], end=\" \")\\n  print()',\n",
              "  'figurita = []\\nrows = 3\\ncolumns = 3\\ncounter = 1\\n\\n#filas\\nfor i in range(rows):\\n  temp = []\\n#columnas\\n  for j in range(columns):\\n    temp.append(counter)\\n    counter += 1\\n  figurita.append(temp)\\n\\nfigurita[0][1] = \"X\"\\n\\n\\nfor i in range(len(figurita)):\\n  for j in range(len(figurita[i])):\\n    print(figurita[i][j], end=\" \")\\n  print()',\n",
              "  'figurita = []\\nrows = 3\\ncolumns = 3\\ncounter = 1\\n\\n#filas\\nfor i in range(rows):\\n  temp = []\\n#columnas\\n  for j in range(columns):\\n    temp.append(counter)\\n    counter += 1\\n  figurita.append(temp)\\n\\nfigurita[1][1] = \"X\"\\n\\n\\nfor i in range(len(figurita)):\\n  for j in range(len(figurita[i])):\\n    print(figurita[i][j], end=\" \")\\n  print()',\n",
              "  'figurita = []\\nrows = 3\\ncolumns = 3\\ncounter = 1\\n\\n#filas\\nfor i in range(rows):\\n  temp = []\\n#columnas\\n  for j in range(columns):\\n    temp.append(counter)\\n    counter += 1\\n  figurita.append(temp)\\n\\nfigurita[1][1] = \"X\"',\n",
              "  'figurita = []\\nrows = 3\\ncolumns = 3\\ncounter = 1\\n\\n#filas\\nfor i in range(rows):\\n  temp = []\\n#columnas\\n  for j in range(columns):\\n    temp.append(counter)\\n    counter += 1\\n  figurita.append(temp)\\n\\nfigurita[1][1] = \"X\"\\n\\n\\nfor i in range(len(figurita)):\\n  for j in range(len(figurita[i])):\\n    print(figurita[i][j], end=\" \")\\n  print()',\n",
              "  'figurita = []\\nrows = 3\\ncolumns = 3\\ncounter = 1\\n\\n#filas\\nfor i in range(rows):\\n  temp = []\\n#columnas\\n  for j in range(columns):\\n    temp.append(counter)\\n    counter += 1\\n  figurita.append(temp)\\n\\nfor i in range(len(figurita)):\\n  for j in range(len(figurita[i])):\\n    print(figurita[i][j], end=\" \")\\n  print()\\n\\n\\nfigurita[1][1] = \"X\"',\n",
              "  'figurita = []\\nrows = 3\\ncolumns = 3\\ncounter = 1\\n\\n#filas\\nfor i in range(rows):\\n  temp = []\\n#columnas\\n  for j in range(columns):\\n    temp.append(counter)\\n    counter += 1\\n  figurita.append(temp)\\n\\nfigurita[1][1] = \"X\"\\n\\nfor i in range(len(figurita)):\\n  for j in range(len(figurita[i])):\\n    print(figurita[i][j], end=\" \")\\n  print()',\n",
              "  \"# prompt: codigo buscaminas en python\\n\\nimport random\\n\\n# Define the size of the grid\\nrows = 10\\ncols = 10\\n\\n# Create the grid\\ngrid = [[' ' for _ in range(cols)] for _ in range(rows)]\\n\\n# Place the mines\\nnum_mines = 10\\nfor _ in range(num_mines):\\n  row = random.randint(0, rows - 1)\\n  col = random.randint(0, cols - 1)\\n  grid[row][col] = '*'\\n\\n# Calculate the number of adjacent mines for each cell\\nfor row in range(rows):\\n  for col in range(cols):\\n    if grid[row][col] != '*':\\n      adjacent_mines = 0\\n      for i in range(-1, 2):\\n        for j in range(-1, 2):\\n          if 0 <= row + i < rows and 0 <= col + j < cols and grid[row + i][col + j] == '*':\\n            adjacent_mines += 1\\n      grid[row][col] = adjacent_mines\\n\\n# Print the grid\\nfor row in grid:\\n  for cell in row:\\n    print(cell, end=' ')\\n  print()\",\n",
              "  'from datetime import datetime\\ncurrent_time = datetime.now()\\nprint(current_time)',\n",
              "  'from datetime import datetime\\ncurrent_time = datetime.now()\\nprint(current_time)',\n",
              "  'from datetime import datetime\\ncurrent_time = datetime.now(monteria)\\nprint(current_time)',\n",
              "  '#hora y fecha\\nfrom datetime import datetime\\ncurrent_time = datetime.now()\\nprint(current_time)',\n",
              "  'import random\\nrandom_numbers = []\\nfor i in range(10):\\n  random_numbers.append(random.randint(-100,100))\\nprint(random_numbers)',\n",
              "  'locals()'],\n",
              " '_oh': {},\n",
              " '_dh': ['/content'],\n",
              " 'In': ['',\n",
              "  'figurita = []\\n  \\nfor i in range(2):\\n  temp = []\\n  for j in range(2):\\n    temp.append(1)\\n  figurita.append(temp)\\n\\nprint(figuritas)',\n",
              "  'figurita = []\\n  \\nfor i in range(2):\\n  temp = []\\n  for j in range(2):\\n    temp.append(1)\\n  figurita.append(temp)\\n\\nprint(figurita)',\n",
              "  'figurita = []\\n  \\nfor i in range(2):\\n  temp = []\\n  for j in range(2):\\n    temp.append(1)\\n  figurita.append(temp)\\n\\nfor i in range(len(figurita)):\\n  for j in range(len(figurita[i])):\\n    print(figurita[i][j])',\n",
              "  'figurita = []\\nrows = 4\\ncolumns = 4\\ncounter = 1\\nfor i in range(rows):\\n  temp = []\\n  for j in range(columns):\\n    temp.append(counter)\\n    counter += 1\\n  figurita.append(temp)\\n\\n  print(figurita)\\n\\nfor i in range(len(figurita)):\\n  for j in range(len(figurita[i])):\\n    print(figurita[i][j])',\n",
              "  'figurita = []\\nrows = 4\\ncolumns = 4\\ncounter = 1\\nfor i in range(rows):\\n  temp = []\\n  for j in range(columns):\\n    temp.append(counter)\\n    counter += 1\\n  figurita.append(temp)\\n\\nprint(figurita)\\n\\nfor i in range(len(figurita)):\\n  for j in range(len(figurita[i])):\\n    print(figurita[i][j])',\n",
              "  'figurita = []\\n  \\nfor i in range(2):\\n  temp = []\\n  for j in range(2):\\n    temp.append(1)\\n  figurita.append(temp)\\n\\nfor i in range(len(figurita)):\\n  for j in range(len(figurita[i])):\\n    print(figurita[i][j])',\n",
              "  'figurita = []\\nrows = 2\\ncolumns = 2\\ncounter = 1\\nfor i in range(rows):\\n  temp = []\\n  for j in range(columns):\\n    temp.append(counter)\\n    counter += 1\\n  figurita.append(temp)\\n\\nprint(figurita)\\n\\nfor i in range(len(figurita)):\\n  for j in range(len(figurita[i])):\\n    print(figurita[i][j])',\n",
              "  'figurita = []\\nrows = 3\\ncolumns = 3\\ncounter = 1\\nfor i in range(rows):\\n  temp = []\\n  for j in range(columns):\\n    temp.append(counter)\\n    counter += 1\\n  figurita.append(temp)\\n\\nprint(figurita)\\n\\nfor i in range(len(figurita)):\\n  for j in range(len(figurita[i])):\\n    print(figurita[i][j])',\n",
              "  'figurita = []\\nrows = 3\\ncolumns = 3\\ncounter = 1\\nfor i in range(rows):\\n  temp = []\\n  for j in range(columns):\\n    temp.append(counter)\\n    counter += 1\\n  figurita.append(temp)\\n\\nprint(figurita)\\n\\nfor i in range(len(figurita)):\\n  for j in range(len(figurita[i])):\\n    print(figurita[i][j])\\n    print()',\n",
              "  'figurita = []\\nrows = 3\\ncolumns = 3\\ncounter = 1\\nfor i in range(rows):\\n  temp = []\\n  for j in range(columns):\\n    temp.append(counter)\\n    counter += 1\\n  figurita.append(temp)\\n\\nprint(figurita)\\n\\nfor i in range(len(figurita)):\\n  for j in range(len(figurita[i])):\\n    print(figurita[i][j], end=\" \")\\n    print()',\n",
              "  '# prompt: colocame la lista anterior a una matriz con el for\\n\\nmatriz = []\\ncounter = 1\\nfor i in range(3):\\n  temp = []\\n  for j in range(3):\\n    temp.append(counter)\\n    counter += 1\\n  matriz.append(temp)\\n\\nfor i in range(len(matriz)):\\n  for j in range(len(matriz[i])):\\n    print(matriz[i][j])',\n",
              "  'figurita = []\\nrows = 3\\ncolumns = 3\\ncounter = 1\\nfor i in range(rows):\\n  temp = []\\n  for j in range(columns):\\n    temp.append(counter)\\n    counter += 1\\n  figurita.append(temp)\\n\\nprint(figurita)\\n\\nfor i in range(len(figurita)):\\n  for j in range(len(figurita[i])):\\n    print(figurita[i][j], end=\" \")\\n  print()',\n",
              "  'figurita = []\\nrows = 3\\ncolumns = 3\\ncounter = 1\\nfor i in range(rows):\\n  temp = []\\n  for j in range(columns):\\n    temp.append(\"-\")\\n    counter += 1\\n  figurita.append(temp)\\n\\nprint(figurita)\\n\\nfor i in range(len(figurita)):\\n  for j in range(len(figurita[i])):\\n    print(figurita[i][j], end=\"\")\\n  print()',\n",
              "  'figurita = []\\nrows = 3\\ncolumns = 3\\ncounter = 1\\nfor i in range(rows):\\n  temp = []\\n  for j in range(columns):\\n    temp.append(\" - \")\\n    counter += 1\\n  figurita.append(temp)\\n\\nprint(figurita)\\n\\nfor i in range(len(figurita)):\\n  for j in range(len(figurita[i])):\\n    print(figurita[i][j], end=\"\")\\n  print()',\n",
              "  'figurita = []\\nrows = 3\\ncolumns = 3\\ncounter = 1\\nfor i in range(rows):\\n  temp = []\\n  for j in range(columns):\\n    temp.append(\" - \")\\n    counter += 1\\n  figurita.append(temp)\\n\\n# print(figurita)\\n\\nfor i in range(len(figurita)):\\n  for j in range(len(figurita[i])):\\n    print(figurita[i][j], end=\"\")\\n  print()',\n",
              "  '# prompt: usa el codigo anterior y agregale valores a las casillas\\n\\nfigurita = []\\nrows = 3\\ncolumns = 3\\ncounter = 1\\nfor i in range(rows):\\n  temp = []\\n  for j in range(columns):\\n    temp.append(counter)\\n    counter += 1\\n  figurita.append(temp)\\n\\nfigurita[1][1] = \"X\"\\n\\nprint(figurita)\\n\\nfor i in range(len(figurita)):\\n  for j in range(len(figurita[i])):\\n    print(figurita[i][j], end=\" \")\\n  print()',\n",
              "  '# prompt: usa el codigo anterior y agregale valores a las casillas\\n\\nfigurita = []\\nrows = 3\\ncolumns = 3\\ncounter = 1\\nfor i in range(rows):\\n  temp = []\\n  for j in range(columns):\\n    temp.append(counter)\\n    counter += 1\\n  figurita.append(temp)\\n\\nfigurita[1][1] = \"X\"\\n\\n\\nfor i in range(len(figurita)):\\n  for j in range(len(figurita[i])):\\n    print(figurita[i][j], end=\" \")\\n  print()',\n",
              "  '# prompt: usa el codigo anterior y agregale valores a las casillas\\n\\nfigurita = []\\nrows = 3\\ncolumns = 3\\ncounter = 1\\nfor i in range(rows):\\n  temp = []\\n  for j in range(columns):\\n    temp.append(counter)\\n    counter += 1\\n  figurita.append(temp)\\n\\nfigurita[1][2] = \"X\"\\n\\n\\nfor i in range(len(figurita)):\\n  for j in range(len(figurita[i])):\\n    print(figurita[i][j], end=\" \")\\n  print()',\n",
              "  '# prompt: usa el codigo anterior y agregale valores a las casillas\\n\\nfigurita = []\\nrows = 3\\ncolumns = 3\\ncounter = 1\\nfor i in range(rows):\\n  temp = []\\n  for j in range(columns):\\n    temp.append(counter)\\n    counter += 1\\n  figurita.append(temp)\\n\\nfigurita[1][1] = \"X\"\\n\\n\\nfor i in range(len(figurita)):\\n  for j in range(len(figurita[i])):\\n    print(figurita[i][j], end=\" \")\\n  print()',\n",
              "  '# prompt: usa el codigo anterior y agregale valores a las casillas\\n\\nfigurita = []\\nrows = 3\\ncolumns = 3\\ncounter = 1\\nfor i in range(rows):\\n  temp = []\\n  for j in range(columns):\\n    temp.append(counter)\\n    counter += 1\\n  figurita.append(temp)\\n\\n# figurita[1][1] = \"X\"\\n\\n\\nfor i in range(len(figurita)):\\n  for j in range(len(figurita[i])):\\n    print(figurita[i][j], end=\" \")\\n  print()',\n",
              "  '# prompt: usa el codigo anterior y agregale valores a las casillas\\n\\nfigurita = []\\nrows = 3\\ncolumns = 3\\ncounter = 1\\nfor i in range(rows):\\n  temp = []\\n  for j in range(columns):\\n    temp.append(counter)\\n    counter += 1\\n  figurita.append(temp)\\n\\nfigurita[1][1] = \"X\"\\n\\n\\nfor i in range(len(figurita)):\\n  for j in range(len(figurita[i])):\\n    print(figurita[i][j], end=\" \")\\n  print()',\n",
              "  '# prompt: usa el codigo anterior y agregale valores a las casillas\\n\\nfigurita = []\\nrows = 3\\ncolumns = 4\\ncounter = 1\\n\\n#filas\\nfor i in range(rows):\\n  temp = []\\n#columnas\\n  for j in range(columns):\\n    temp.append(counter)\\n    counter += 1\\n  figurita.append(temp)\\n\\nfigurita[1][1] = \"X\"\\n\\n\\nfor i in range(len(figurita)):\\n  for j in range(len(figurita[i])):\\n    print(figurita[i][j], end=\" \")\\n  print()',\n",
              "  '# prompt: usa el codigo anterior y agregale valores a las casillas\\n\\nfigurita = []\\nrows = 3\\ncolumns = 3\\ncounter = 1\\n\\n#filas\\nfor i in range(rows):\\n  temp = []\\n#columnas\\n  for j in range(columns):\\n    temp.append(counter)\\n    counter += 1\\n  figurita.append(temp)\\n\\nfigurita[1][1] = \"X\"\\n\\n\\nfor i in range(len(figurita)):\\n  for j in range(len(figurita[i])):\\n    print(figurita[i][j], end=\" \")\\n  print()',\n",
              "  'figurita = []\\nrows = 3\\ncolumns = 3\\ncounter = 1\\n\\n#filas\\nfor i in range(rows):\\n  temp = []\\n#columnas\\n  for j in range(columns):\\n    temp.append(counter)\\n    counter += 1\\n  figurita.append(temp)\\n\\nfigurita[0][1] = \"X\"\\n\\n\\nfor i in range(len(figurita)):\\n  for j in range(len(figurita[i])):\\n    print(figurita[i][j], end=\" \")\\n  print()',\n",
              "  'figurita = []\\nrows = 3\\ncolumns = 3\\ncounter = 1\\n\\n#filas\\nfor i in range(rows):\\n  temp = []\\n#columnas\\n  for j in range(columns):\\n    temp.append(counter)\\n    counter += 1\\n  figurita.append(temp)\\n\\nfigurita[1][1] = \"X\"\\n\\n\\nfor i in range(len(figurita)):\\n  for j in range(len(figurita[i])):\\n    print(figurita[i][j], end=\" \")\\n  print()',\n",
              "  'figurita = []\\nrows = 3\\ncolumns = 3\\ncounter = 1\\n\\n#filas\\nfor i in range(rows):\\n  temp = []\\n#columnas\\n  for j in range(columns):\\n    temp.append(counter)\\n    counter += 1\\n  figurita.append(temp)\\n\\nfigurita[1][1] = \"X\"',\n",
              "  'figurita = []\\nrows = 3\\ncolumns = 3\\ncounter = 1\\n\\n#filas\\nfor i in range(rows):\\n  temp = []\\n#columnas\\n  for j in range(columns):\\n    temp.append(counter)\\n    counter += 1\\n  figurita.append(temp)\\n\\nfigurita[1][1] = \"X\"\\n\\n\\nfor i in range(len(figurita)):\\n  for j in range(len(figurita[i])):\\n    print(figurita[i][j], end=\" \")\\n  print()',\n",
              "  'figurita = []\\nrows = 3\\ncolumns = 3\\ncounter = 1\\n\\n#filas\\nfor i in range(rows):\\n  temp = []\\n#columnas\\n  for j in range(columns):\\n    temp.append(counter)\\n    counter += 1\\n  figurita.append(temp)\\n\\nfor i in range(len(figurita)):\\n  for j in range(len(figurita[i])):\\n    print(figurita[i][j], end=\" \")\\n  print()\\n\\n\\nfigurita[1][1] = \"X\"',\n",
              "  'figurita = []\\nrows = 3\\ncolumns = 3\\ncounter = 1\\n\\n#filas\\nfor i in range(rows):\\n  temp = []\\n#columnas\\n  for j in range(columns):\\n    temp.append(counter)\\n    counter += 1\\n  figurita.append(temp)\\n\\nfigurita[1][1] = \"X\"\\n\\nfor i in range(len(figurita)):\\n  for j in range(len(figurita[i])):\\n    print(figurita[i][j], end=\" \")\\n  print()',\n",
              "  \"# prompt: codigo buscaminas en python\\n\\nimport random\\n\\n# Define the size of the grid\\nrows = 10\\ncols = 10\\n\\n# Create the grid\\ngrid = [[' ' for _ in range(cols)] for _ in range(rows)]\\n\\n# Place the mines\\nnum_mines = 10\\nfor _ in range(num_mines):\\n  row = random.randint(0, rows - 1)\\n  col = random.randint(0, cols - 1)\\n  grid[row][col] = '*'\\n\\n# Calculate the number of adjacent mines for each cell\\nfor row in range(rows):\\n  for col in range(cols):\\n    if grid[row][col] != '*':\\n      adjacent_mines = 0\\n      for i in range(-1, 2):\\n        for j in range(-1, 2):\\n          if 0 <= row + i < rows and 0 <= col + j < cols and grid[row + i][col + j] == '*':\\n            adjacent_mines += 1\\n      grid[row][col] = adjacent_mines\\n\\n# Print the grid\\nfor row in grid:\\n  for cell in row:\\n    print(cell, end=' ')\\n  print()\",\n",
              "  'from datetime import datetime\\ncurrent_time = datetime.now()\\nprint(current_time)',\n",
              "  'from datetime import datetime\\ncurrent_time = datetime.now()\\nprint(current_time)',\n",
              "  'from datetime import datetime\\ncurrent_time = datetime.now(monteria)\\nprint(current_time)',\n",
              "  '#hora y fecha\\nfrom datetime import datetime\\ncurrent_time = datetime.now()\\nprint(current_time)',\n",
              "  'import random\\nrandom_numbers = []\\nfor i in range(10):\\n  random_numbers.append(random.randint(-100,100))\\nprint(random_numbers)',\n",
              "  'locals()'],\n",
              " 'Out': {},\n",
              " 'get_ipython': <bound method InteractiveShell.get_ipython of <google.colab._shell.Shell object at 0x7cf485513820>>,\n",
              " 'exit': <IPython.core.autocall.ZMQExitAutocall at 0x7cf485512ce0>,\n",
              " 'quit': <IPython.core.autocall.ZMQExitAutocall at 0x7cf485512ce0>,\n",
              " '_': 9,\n",
              " '__': '',\n",
              " '___': '',\n",
              " '_i': 'import random\\nrandom_numbers = []\\nfor i in range(10):\\n  random_numbers.append(random.randint(-100,100))\\nprint(random_numbers)',\n",
              " '_ii': '#hora y fecha\\nfrom datetime import datetime\\ncurrent_time = datetime.now()\\nprint(current_time)',\n",
              " '_iii': 'from datetime import datetime\\ncurrent_time = datetime.now(monteria)\\nprint(current_time)',\n",
              " '_i1': 'figurita = []\\n  \\nfor i in range(2):\\n  temp = []\\n  for j in range(2):\\n    temp.append(1)\\n  figurita.append(temp)\\n\\nprint(figuritas)',\n",
              " 'figurita': [[1, 2, 3], [4, 'X', 6], [7, 8, 9]],\n",
              " 'i': 9,\n",
              " 'temp': [7, 8, 9],\n",
              " 'j': 1,\n",
              " '_i2': 'figurita = []\\n  \\nfor i in range(2):\\n  temp = []\\n  for j in range(2):\\n    temp.append(1)\\n  figurita.append(temp)\\n\\nprint(figurita)',\n",
              " '_i3': 'figurita = []\\n  \\nfor i in range(2):\\n  temp = []\\n  for j in range(2):\\n    temp.append(1)\\n  figurita.append(temp)\\n\\nfor i in range(len(figurita)):\\n  for j in range(len(figurita[i])):\\n    print(figurita[i][j])',\n",
              " '_i4': 'figurita = []\\nrows = 4\\ncolumns = 4\\ncounter = 1\\nfor i in range(rows):\\n  temp = []\\n  for j in range(columns):\\n    temp.append(counter)\\n    counter += 1\\n  figurita.append(temp)\\n\\n  print(figurita)\\n\\nfor i in range(len(figurita)):\\n  for j in range(len(figurita[i])):\\n    print(figurita[i][j])',\n",
              " 'rows': 10,\n",
              " 'columns': 3,\n",
              " 'counter': 10,\n",
              " '_i5': 'figurita = []\\nrows = 4\\ncolumns = 4\\ncounter = 1\\nfor i in range(rows):\\n  temp = []\\n  for j in range(columns):\\n    temp.append(counter)\\n    counter += 1\\n  figurita.append(temp)\\n\\nprint(figurita)\\n\\nfor i in range(len(figurita)):\\n  for j in range(len(figurita[i])):\\n    print(figurita[i][j])',\n",
              " '_i6': 'figurita = []\\n  \\nfor i in range(2):\\n  temp = []\\n  for j in range(2):\\n    temp.append(1)\\n  figurita.append(temp)\\n\\nfor i in range(len(figurita)):\\n  for j in range(len(figurita[i])):\\n    print(figurita[i][j])',\n",
              " '_i7': 'figurita = []\\nrows = 2\\ncolumns = 2\\ncounter = 1\\nfor i in range(rows):\\n  temp = []\\n  for j in range(columns):\\n    temp.append(counter)\\n    counter += 1\\n  figurita.append(temp)\\n\\nprint(figurita)\\n\\nfor i in range(len(figurita)):\\n  for j in range(len(figurita[i])):\\n    print(figurita[i][j])',\n",
              " '_i8': 'figurita = []\\nrows = 3\\ncolumns = 3\\ncounter = 1\\nfor i in range(rows):\\n  temp = []\\n  for j in range(columns):\\n    temp.append(counter)\\n    counter += 1\\n  figurita.append(temp)\\n\\nprint(figurita)\\n\\nfor i in range(len(figurita)):\\n  for j in range(len(figurita[i])):\\n    print(figurita[i][j])',\n",
              " '_i9': 'figurita = []\\nrows = 3\\ncolumns = 3\\ncounter = 1\\nfor i in range(rows):\\n  temp = []\\n  for j in range(columns):\\n    temp.append(counter)\\n    counter += 1\\n  figurita.append(temp)\\n\\nprint(figurita)\\n\\nfor i in range(len(figurita)):\\n  for j in range(len(figurita[i])):\\n    print(figurita[i][j])\\n    print()',\n",
              " '_i10': 'figurita = []\\nrows = 3\\ncolumns = 3\\ncounter = 1\\nfor i in range(rows):\\n  temp = []\\n  for j in range(columns):\\n    temp.append(counter)\\n    counter += 1\\n  figurita.append(temp)\\n\\nprint(figurita)\\n\\nfor i in range(len(figurita)):\\n  for j in range(len(figurita[i])):\\n    print(figurita[i][j], end=\" \")\\n    print()',\n",
              " '_i11': '# prompt: colocame la lista anterior a una matriz con el for\\n\\nmatriz = []\\ncounter = 1\\nfor i in range(3):\\n  temp = []\\n  for j in range(3):\\n    temp.append(counter)\\n    counter += 1\\n  matriz.append(temp)\\n\\nfor i in range(len(matriz)):\\n  for j in range(len(matriz[i])):\\n    print(matriz[i][j])',\n",
              " 'matriz': [[1, 2, 3], [4, 5, 6], [7, 8, 9]],\n",
              " '_i12': 'figurita = []\\nrows = 3\\ncolumns = 3\\ncounter = 1\\nfor i in range(rows):\\n  temp = []\\n  for j in range(columns):\\n    temp.append(counter)\\n    counter += 1\\n  figurita.append(temp)\\n\\nprint(figurita)\\n\\nfor i in range(len(figurita)):\\n  for j in range(len(figurita[i])):\\n    print(figurita[i][j], end=\" \")\\n  print()',\n",
              " '_i13': 'figurita = []\\nrows = 3\\ncolumns = 3\\ncounter = 1\\nfor i in range(rows):\\n  temp = []\\n  for j in range(columns):\\n    temp.append(\"-\")\\n    counter += 1\\n  figurita.append(temp)\\n\\nprint(figurita)\\n\\nfor i in range(len(figurita)):\\n  for j in range(len(figurita[i])):\\n    print(figurita[i][j], end=\"\")\\n  print()',\n",
              " '_i14': 'figurita = []\\nrows = 3\\ncolumns = 3\\ncounter = 1\\nfor i in range(rows):\\n  temp = []\\n  for j in range(columns):\\n    temp.append(\" - \")\\n    counter += 1\\n  figurita.append(temp)\\n\\nprint(figurita)\\n\\nfor i in range(len(figurita)):\\n  for j in range(len(figurita[i])):\\n    print(figurita[i][j], end=\"\")\\n  print()',\n",
              " '_i15': 'figurita = []\\nrows = 3\\ncolumns = 3\\ncounter = 1\\nfor i in range(rows):\\n  temp = []\\n  for j in range(columns):\\n    temp.append(\" - \")\\n    counter += 1\\n  figurita.append(temp)\\n\\n# print(figurita)\\n\\nfor i in range(len(figurita)):\\n  for j in range(len(figurita[i])):\\n    print(figurita[i][j], end=\"\")\\n  print()',\n",
              " '_i16': '# prompt: usa el codigo anterior y agregale valores a las casillas\\n\\nfigurita = []\\nrows = 3\\ncolumns = 3\\ncounter = 1\\nfor i in range(rows):\\n  temp = []\\n  for j in range(columns):\\n    temp.append(counter)\\n    counter += 1\\n  figurita.append(temp)\\n\\nfigurita[1][1] = \"X\"\\n\\nprint(figurita)\\n\\nfor i in range(len(figurita)):\\n  for j in range(len(figurita[i])):\\n    print(figurita[i][j], end=\" \")\\n  print()',\n",
              " '_i17': '# prompt: usa el codigo anterior y agregale valores a las casillas\\n\\nfigurita = []\\nrows = 3\\ncolumns = 3\\ncounter = 1\\nfor i in range(rows):\\n  temp = []\\n  for j in range(columns):\\n    temp.append(counter)\\n    counter += 1\\n  figurita.append(temp)\\n\\nfigurita[1][1] = \"X\"\\n\\n\\nfor i in range(len(figurita)):\\n  for j in range(len(figurita[i])):\\n    print(figurita[i][j], end=\" \")\\n  print()',\n",
              " '_i18': '# prompt: usa el codigo anterior y agregale valores a las casillas\\n\\nfigurita = []\\nrows = 3\\ncolumns = 3\\ncounter = 1\\nfor i in range(rows):\\n  temp = []\\n  for j in range(columns):\\n    temp.append(counter)\\n    counter += 1\\n  figurita.append(temp)\\n\\nfigurita[1][2] = \"X\"\\n\\n\\nfor i in range(len(figurita)):\\n  for j in range(len(figurita[i])):\\n    print(figurita[i][j], end=\" \")\\n  print()',\n",
              " '_i19': '# prompt: usa el codigo anterior y agregale valores a las casillas\\n\\nfigurita = []\\nrows = 3\\ncolumns = 3\\ncounter = 1\\nfor i in range(rows):\\n  temp = []\\n  for j in range(columns):\\n    temp.append(counter)\\n    counter += 1\\n  figurita.append(temp)\\n\\nfigurita[1][1] = \"X\"\\n\\n\\nfor i in range(len(figurita)):\\n  for j in range(len(figurita[i])):\\n    print(figurita[i][j], end=\" \")\\n  print()',\n",
              " '_i20': '# prompt: usa el codigo anterior y agregale valores a las casillas\\n\\nfigurita = []\\nrows = 3\\ncolumns = 3\\ncounter = 1\\nfor i in range(rows):\\n  temp = []\\n  for j in range(columns):\\n    temp.append(counter)\\n    counter += 1\\n  figurita.append(temp)\\n\\n# figurita[1][1] = \"X\"\\n\\n\\nfor i in range(len(figurita)):\\n  for j in range(len(figurita[i])):\\n    print(figurita[i][j], end=\" \")\\n  print()',\n",
              " '_i21': '# prompt: usa el codigo anterior y agregale valores a las casillas\\n\\nfigurita = []\\nrows = 3\\ncolumns = 3\\ncounter = 1\\nfor i in range(rows):\\n  temp = []\\n  for j in range(columns):\\n    temp.append(counter)\\n    counter += 1\\n  figurita.append(temp)\\n\\nfigurita[1][1] = \"X\"\\n\\n\\nfor i in range(len(figurita)):\\n  for j in range(len(figurita[i])):\\n    print(figurita[i][j], end=\" \")\\n  print()',\n",
              " '_i22': '# prompt: usa el codigo anterior y agregale valores a las casillas\\n\\nfigurita = []\\nrows = 3\\ncolumns = 4\\ncounter = 1\\n\\n#filas\\nfor i in range(rows):\\n  temp = []\\n#columnas\\n  for j in range(columns):\\n    temp.append(counter)\\n    counter += 1\\n  figurita.append(temp)\\n\\nfigurita[1][1] = \"X\"\\n\\n\\nfor i in range(len(figurita)):\\n  for j in range(len(figurita[i])):\\n    print(figurita[i][j], end=\" \")\\n  print()',\n",
              " '_i23': '# prompt: usa el codigo anterior y agregale valores a las casillas\\n\\nfigurita = []\\nrows = 3\\ncolumns = 3\\ncounter = 1\\n\\n#filas\\nfor i in range(rows):\\n  temp = []\\n#columnas\\n  for j in range(columns):\\n    temp.append(counter)\\n    counter += 1\\n  figurita.append(temp)\\n\\nfigurita[1][1] = \"X\"\\n\\n\\nfor i in range(len(figurita)):\\n  for j in range(len(figurita[i])):\\n    print(figurita[i][j], end=\" \")\\n  print()',\n",
              " '_i24': 'figurita = []\\nrows = 3\\ncolumns = 3\\ncounter = 1\\n\\n#filas\\nfor i in range(rows):\\n  temp = []\\n#columnas\\n  for j in range(columns):\\n    temp.append(counter)\\n    counter += 1\\n  figurita.append(temp)\\n\\nfigurita[0][1] = \"X\"\\n\\n\\nfor i in range(len(figurita)):\\n  for j in range(len(figurita[i])):\\n    print(figurita[i][j], end=\" \")\\n  print()',\n",
              " '_i25': 'figurita = []\\nrows = 3\\ncolumns = 3\\ncounter = 1\\n\\n#filas\\nfor i in range(rows):\\n  temp = []\\n#columnas\\n  for j in range(columns):\\n    temp.append(counter)\\n    counter += 1\\n  figurita.append(temp)\\n\\nfigurita[1][1] = \"X\"\\n\\n\\nfor i in range(len(figurita)):\\n  for j in range(len(figurita[i])):\\n    print(figurita[i][j], end=\" \")\\n  print()',\n",
              " '_i26': 'figurita = []\\nrows = 3\\ncolumns = 3\\ncounter = 1\\n\\n#filas\\nfor i in range(rows):\\n  temp = []\\n#columnas\\n  for j in range(columns):\\n    temp.append(counter)\\n    counter += 1\\n  figurita.append(temp)\\n\\nfigurita[1][1] = \"X\"',\n",
              " '_i27': 'figurita = []\\nrows = 3\\ncolumns = 3\\ncounter = 1\\n\\n#filas\\nfor i in range(rows):\\n  temp = []\\n#columnas\\n  for j in range(columns):\\n    temp.append(counter)\\n    counter += 1\\n  figurita.append(temp)\\n\\nfigurita[1][1] = \"X\"\\n\\n\\nfor i in range(len(figurita)):\\n  for j in range(len(figurita[i])):\\n    print(figurita[i][j], end=\" \")\\n  print()',\n",
              " '_i28': 'figurita = []\\nrows = 3\\ncolumns = 3\\ncounter = 1\\n\\n#filas\\nfor i in range(rows):\\n  temp = []\\n#columnas\\n  for j in range(columns):\\n    temp.append(counter)\\n    counter += 1\\n  figurita.append(temp)\\n\\nfor i in range(len(figurita)):\\n  for j in range(len(figurita[i])):\\n    print(figurita[i][j], end=\" \")\\n  print()\\n\\n\\nfigurita[1][1] = \"X\"',\n",
              " '_i29': 'figurita = []\\nrows = 3\\ncolumns = 3\\ncounter = 1\\n\\n#filas\\nfor i in range(rows):\\n  temp = []\\n#columnas\\n  for j in range(columns):\\n    temp.append(counter)\\n    counter += 1\\n  figurita.append(temp)\\n\\nfigurita[1][1] = \"X\"\\n\\nfor i in range(len(figurita)):\\n  for j in range(len(figurita[i])):\\n    print(figurita[i][j], end=\" \")\\n  print()',\n",
              " '_i30': \"# prompt: codigo buscaminas en python\\n\\nimport random\\n\\n# Define the size of the grid\\nrows = 10\\ncols = 10\\n\\n# Create the grid\\ngrid = [[' ' for _ in range(cols)] for _ in range(rows)]\\n\\n# Place the mines\\nnum_mines = 10\\nfor _ in range(num_mines):\\n  row = random.randint(0, rows - 1)\\n  col = random.randint(0, cols - 1)\\n  grid[row][col] = '*'\\n\\n# Calculate the number of adjacent mines for each cell\\nfor row in range(rows):\\n  for col in range(cols):\\n    if grid[row][col] != '*':\\n      adjacent_mines = 0\\n      for i in range(-1, 2):\\n        for j in range(-1, 2):\\n          if 0 <= row + i < rows and 0 <= col + j < cols and grid[row + i][col + j] == '*':\\n            adjacent_mines += 1\\n      grid[row][col] = adjacent_mines\\n\\n# Print the grid\\nfor row in grid:\\n  for cell in row:\\n    print(cell, end=' ')\\n  print()\",\n",
              " 'random': <module 'random' from '/usr/lib/python3.10/random.py'>,\n",
              " 'cols': 10,\n",
              " 'grid': [[1, '*', 1, 1, '*', 1, 0, 1, 1, 1],\n",
              "  [1, 1, 1, 1, 1, 1, 0, 1, '*', 1],\n",
              "  [0, 0, 0, 0, 0, 0, 0, 1, 1, 1],\n",
              "  [0, 1, 1, 1, 0, 0, 0, 1, 1, 1],\n",
              "  [0, 2, '*', 2, 1, 1, 1, 1, '*', 1],\n",
              "  [0, 2, '*', 2, 2, '*', 2, 2, 2, 2],\n",
              "  [0, 1, 1, 1, 2, '*', 2, 1, '*', 1],\n",
              "  [0, 0, 0, 0, 1, 1, 1, 1, 1, 1],\n",
              "  [0, 0, 0, 0, 0, 0, 0, 0, 1, 1],\n",
              "  [0, 0, 0, 0, 0, 0, 0, 0, 1, '*']],\n",
              " 'num_mines': 10,\n",
              " 'row': [0, 0, 0, 0, 0, 0, 0, 0, 1, '*'],\n",
              " 'col': 9,\n",
              " 'adjacent_mines': 1,\n",
              " 'cell': '*',\n",
              " '_i31': 'from datetime import datetime\\ncurrent_time = datetime.now()\\nprint(current_time)',\n",
              " 'datetime': datetime.datetime,\n",
              " 'current_time': datetime.datetime(2024, 4, 8, 18, 26, 45, 515664),\n",
              " '_i32': 'from datetime import datetime\\ncurrent_time = datetime.now()\\nprint(current_time)',\n",
              " '_i33': 'from datetime import datetime\\ncurrent_time = datetime.now(monteria)\\nprint(current_time)',\n",
              " '_i34': '#hora y fecha\\nfrom datetime import datetime\\ncurrent_time = datetime.now()\\nprint(current_time)',\n",
              " '_i35': 'import random\\nrandom_numbers = []\\nfor i in range(10):\\n  random_numbers.append(random.randint(-100,100))\\nprint(random_numbers)',\n",
              " 'random_numbers': [-27, -58, 76, -94, -3, 4, 16, 39, -40, 23],\n",
              " '_i36': 'locals()'}"
            ]
          },
          "metadata": {},
          "execution_count": 36
        }
      ]
    }
  ]
}