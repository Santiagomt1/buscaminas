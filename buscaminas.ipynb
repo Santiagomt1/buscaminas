{
  "nbformat": 4,
  "nbformat_minor": 0,
  "metadata": {
    "colab": {
      "provenance": [],
      "authorship_tag": "ABX9TyOeYKc55YGpszKQflu34fTr",
      "include_colab_link": true
    },
    "kernelspec": {
      "name": "python3",
      "display_name": "Python 3"
    },
    "language_info": {
      "name": "python"
    }
  },
  "cells": [
    {
      "cell_type": "markdown",
      "metadata": {
        "id": "view-in-github",
        "colab_type": "text"
      },
      "source": [
        "<a href=\"https://colab.research.google.com/github/Santiagomt1/buscaminas/blob/main/buscaminas.ipynb\" target=\"_parent\"><img src=\"https://colab.research.google.com/assets/colab-badge.svg\" alt=\"Open In Colab\"/></a>"
      ]
    },
    {
      "cell_type": "code",
      "execution_count": 6,
      "metadata": {
        "colab": {
          "base_uri": "https://localhost:8080/"
        },
        "id": "Kge_GfRpsaaJ",
        "outputId": "e3f50193-69ec-438a-aa3e-936f59197d98"
      },
      "outputs": [
        {
          "output_type": "stream",
          "name": "stdout",
          "text": [
            "1\n",
            "1\n",
            "1\n",
            "1\n"
          ]
        }
      ],
      "source": [
        "figurita = []\n",
        "\n",
        "for i in range(2):\n",
        "  temp = []\n",
        "  for j in range(2):\n",
        "    temp.append(1)\n",
        "  figurita.append(temp)\n",
        "\n",
        "for i in range(len(figurita)):\n",
        "  for j in range(len(figurita[i])):\n",
        "    print(figurita[i][j])\n"
      ]
    },
    {
      "cell_type": "markdown",
      "source": [
        "print(figurita[i][j], end=\" \") - lo imprime al lado"
      ],
      "metadata": {
        "id": "y8UnDD3ExxLh"
      }
    },
    {
      "cell_type": "code",
      "source": [
        "figurita = []\n",
        "rows = 3\n",
        "columns = 3\n",
        "counter = 1\n",
        "for i in range(rows):\n",
        "  temp = []\n",
        "  for j in range(columns):\n",
        "    temp.append(counter)\n",
        "    counter += 1\n",
        "  figurita.append(temp)\n",
        "\n",
        "print(figurita)\n",
        "\n",
        "for i in range(len(figurita)):\n",
        "  for j in range(len(figurita[i])):\n",
        "    print(figurita[i][j], end=\" \")\n",
        "  print()\n"
      ],
      "metadata": {
        "colab": {
          "base_uri": "https://localhost:8080/"
        },
        "id": "aNP0tZUEw678",
        "outputId": "722350bb-8b8f-4008-caac-23dcac78ed36"
      },
      "execution_count": 12,
      "outputs": [
        {
          "output_type": "stream",
          "name": "stdout",
          "text": [
            "[[1, 2, 3], [4, 5, 6], [7, 8, 9]]\n",
            "1 2 3 \n",
            "4 5 6 \n",
            "7 8 9 \n"
          ]
        }
      ]
    },
    {
      "cell_type": "code",
      "source": [
        "figurita = []\n",
        "rows = 3\n",
        "columns = 3\n",
        "counter = 1\n",
        "for i in range(rows):\n",
        "  temp = []\n",
        "  for j in range(columns):\n",
        "    temp.append(\" - \")\n",
        "    counter += 1\n",
        "  figurita.append(temp)\n",
        "\n",
        "# print(figurita)\n",
        "\n",
        "for i in range(len(figurita)):\n",
        "  for j in range(len(figurita[i])):\n",
        "    print(figurita[i][j], end=\"\")\n",
        "  print()\n"
      ],
      "metadata": {
        "colab": {
          "base_uri": "https://localhost:8080/"
        },
        "id": "PmQ5f3bey15s",
        "outputId": "2a6b3c57-e70d-4f9b-a9c1-799d4c1f4530"
      },
      "execution_count": 15,
      "outputs": [
        {
          "output_type": "stream",
          "name": "stdout",
          "text": [
            " -  -  - \n",
            " -  -  - \n",
            " -  -  - \n"
          ]
        }
      ]
    }
  ]
}